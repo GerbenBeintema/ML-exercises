{
 "cells": [
  {
   "cell_type": "markdown",
   "id": "1e52cfb0",
   "metadata": {},
   "source": [
    "**a)**\n",
    "\n",
    "**b)**\n",
    "\n",
    "**Answer b):** bla bla bla"
   ]
  },
  {
   "cell_type": "code",
   "execution_count": 2,
   "id": "2db18c48",
   "metadata": {},
   "outputs": [
    {
     "name": "stdout",
     "output_type": "stream",
     "text": [
      "4\n",
      "8\n",
      "81\n"
     ]
    }
   ],
   "source": [
    "\n",
    "\n",
    "\n",
    "a = 2 #a=)\n",
    "print(a**2) #a)\n",
    "print(a**3) #a)\n",
    "a = 3 #a=)\n",
    "print(a**4) #a)"
   ]
  }
 ],
 "metadata": {
  "kernelspec": {
   "display_name": "Python 3 (ipykernel)",
   "language": "python",
   "name": "python3"
  },
  "language_info": {
   "codemirror_mode": {
    "name": "ipython",
    "version": 3
   },
   "file_extension": ".py",
   "mimetype": "text/x-python",
   "name": "python",
   "nbconvert_exporter": "python",
   "pygments_lexer": "ipython3",
   "version": "3.8.8"
  }
 },
 "nbformat": 4,
 "nbformat_minor": 5
}
